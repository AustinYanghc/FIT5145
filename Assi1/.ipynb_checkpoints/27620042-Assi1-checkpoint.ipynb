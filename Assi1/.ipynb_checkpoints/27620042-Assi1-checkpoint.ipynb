{
 "cells": [
  {
   "cell_type": "code",
   "execution_count": 25,
   "metadata": {},
   "outputs": [],
   "source": [
    "from motionchart.motionchart import MotionChart\n",
    "import pandas as pd"
   ]
  },
  {
   "cell_type": "code",
   "execution_count": 63,
   "metadata": {},
   "outputs": [],
   "source": [
    "sg = pd.read_csv('ERP_by state and gender.csv')"
   ]
  },
  {
   "cell_type": "code",
   "execution_count": 64,
   "metadata": {},
   "outputs": [],
   "source": [
    "hpi = pd.read_csv('House Price Index.csv')"
   ]
  },
  {
   "cell_type": "code",
   "execution_count": 65,
   "metadata": {},
   "outputs": [],
   "source": [
    "ts = pd.read_excel('SA4 Time Series - October 2016.xls', sheetname = 'Time Series')"
   ]
  },
  {
   "cell_type": "code",
   "execution_count": 66,
   "metadata": {},
   "outputs": [],
   "source": [
    "hpi.rename(columns={'Unnamed: 0':'Date'}, inplace=True)\n",
    "hpi.rename(columns={'Residential Property Price Index ;  Sydney ;':'NSW'}, inplace=True)\n",
    "hpi.rename(columns={'Residential Property Price Index ;  Melbourne ;':'VIC'}, inplace=True)\n",
    "hpi.rename(columns={'Residential Property Price Index ;  Brisbane ;':'QLD'}, inplace=True)\n",
    "hpi.rename(columns={'Residential Property Price Index ;  Adelaide ;':'SA'}, inplace=True)\n",
    "hpi.rename(columns={'Residential Property Price Index ;  Perth ;':'WA'}, inplace=True)\n",
    "hpi.rename(columns={'Residential Property Price Index ;  Hobart ;':'TAS'}, inplace=True)\n",
    "hpi.rename(columns={'Residential Property Price Index ;  Darwin ;':'NT'}, inplace=True)\n",
    "hpi.rename(columns={'Residential Property Price Index ;  Canberra ;':'ACT'}, inplace=True)"
   ]
  },
  {
   "cell_type": "code",
   "execution_count": 67,
   "metadata": {},
   "outputs": [
    {
     "data": {
      "text/html": [
       "<div>\n",
       "<style scoped>\n",
       "    .dataframe tbody tr th:only-of-type {\n",
       "        vertical-align: middle;\n",
       "    }\n",
       "\n",
       "    .dataframe tbody tr th {\n",
       "        vertical-align: top;\n",
       "    }\n",
       "\n",
       "    .dataframe thead th {\n",
       "        text-align: right;\n",
       "    }\n",
       "</style>\n",
       "<table border=\"1\" class=\"dataframe\">\n",
       "  <thead>\n",
       "    <tr style=\"text-align: right;\">\n",
       "      <th></th>\n",
       "      <th>Date</th>\n",
       "      <th>State</th>\n",
       "      <th>House Price Index</th>\n",
       "    </tr>\n",
       "  </thead>\n",
       "  <tbody>\n",
       "    <tr>\n",
       "      <th>0</th>\n",
       "      <td>01-Dec-05</td>\n",
       "      <td>NSW</td>\n",
       "      <td>81.8</td>\n",
       "    </tr>\n",
       "    <tr>\n",
       "      <th>1</th>\n",
       "      <td>01-Mar-06</td>\n",
       "      <td>NSW</td>\n",
       "      <td>80.8</td>\n",
       "    </tr>\n",
       "    <tr>\n",
       "      <th>2</th>\n",
       "      <td>01-Jun-06</td>\n",
       "      <td>NSW</td>\n",
       "      <td>82.3</td>\n",
       "    </tr>\n",
       "    <tr>\n",
       "      <th>3</th>\n",
       "      <td>01-Sep-06</td>\n",
       "      <td>NSW</td>\n",
       "      <td>82.0</td>\n",
       "    </tr>\n",
       "    <tr>\n",
       "      <th>4</th>\n",
       "      <td>01-Dec-06</td>\n",
       "      <td>NSW</td>\n",
       "      <td>82.7</td>\n",
       "    </tr>\n",
       "  </tbody>\n",
       "</table>\n",
       "</div>"
      ],
      "text/plain": [
       "        Date State  House Price Index\n",
       "0  01-Dec-05   NSW               81.8\n",
       "1  01-Mar-06   NSW               80.8\n",
       "2  01-Jun-06   NSW               82.3\n",
       "3  01-Sep-06   NSW               82.0\n",
       "4  01-Dec-06   NSW               82.7"
      ]
     },
     "execution_count": 67,
     "metadata": {},
     "output_type": "execute_result"
    }
   ],
   "source": [
    "hpi = pd.melt(hpi, id_vars=['Date'],value_vars=['NSW','VIC','QLD','SA','WA','TAS','NT','ACT'],var_name='State')\n",
    "hpi.rename(columns = {'value':'House Price Index'}, inplace = True)\n",
    "hpi.head()"
   ]
  },
  {
   "cell_type": "code",
   "execution_count": 68,
   "metadata": {},
   "outputs": [],
   "source": [
    "sg.rename(columns={'Unnamed: 0':'Date'}, inplace=True)\n",
    "sg.rename(columns={'Estimated Resident Population ;  Persons ;  New South Wales ;':'NSW'}, inplace=True)\n",
    "sg.rename(columns={'Estimated Resident Population ;  Persons ;  Victoria ;':'VIC'}, inplace=True)\n",
    "sg.rename(columns={'Estimated Resident Population ;  Persons ;  Queensland ;':'QLD'}, inplace=True)\n",
    "sg.rename(columns={'Estimated Resident Population ;  Persons ;  South Australia ;':'SA'}, inplace=True)\n",
    "sg.rename(columns={'Estimated Resident Population ;  Persons ;  Western Australia ;':'WA'}, inplace=True)\n",
    "sg.rename(columns={'Estimated Resident Population ;  Persons ;  Tasmania ;':'TAS'}, inplace=True)\n",
    "sg.rename(columns={'Estimated Resident Population ;  Persons ;  Northern Territory ;':'NT'}, inplace=True)\n",
    "sg.rename(columns={'Estimated Resident Population ;  Persons ;  Australian Capital Territory ;':'ACT'}, inplace=True)"
   ]
  },
  {
   "cell_type": "code",
   "execution_count": 69,
   "metadata": {},
   "outputs": [],
   "source": [
    "sg = sg[['Date','NSW','VIC','QLD','SA','WA','TAS','NT','ACT']]"
   ]
  },
  {
   "cell_type": "code",
   "execution_count": 70,
   "metadata": {},
   "outputs": [
    {
     "data": {
      "text/html": [
       "<div>\n",
       "<style scoped>\n",
       "    .dataframe tbody tr th:only-of-type {\n",
       "        vertical-align: middle;\n",
       "    }\n",
       "\n",
       "    .dataframe tbody tr th {\n",
       "        vertical-align: top;\n",
       "    }\n",
       "\n",
       "    .dataframe thead th {\n",
       "        text-align: right;\n",
       "    }\n",
       "</style>\n",
       "<table border=\"1\" class=\"dataframe\">\n",
       "  <thead>\n",
       "    <tr style=\"text-align: right;\">\n",
       "      <th></th>\n",
       "      <th>Date</th>\n",
       "      <th>State</th>\n",
       "      <th>Population</th>\n",
       "    </tr>\n",
       "  </thead>\n",
       "  <tbody>\n",
       "    <tr>\n",
       "      <th>0</th>\n",
       "      <td>01-Dec-05</td>\n",
       "      <td>NSW</td>\n",
       "      <td>6718023</td>\n",
       "    </tr>\n",
       "    <tr>\n",
       "      <th>1</th>\n",
       "      <td>01-Mar-06</td>\n",
       "      <td>NSW</td>\n",
       "      <td>6735528</td>\n",
       "    </tr>\n",
       "    <tr>\n",
       "      <th>2</th>\n",
       "      <td>01-Jun-06</td>\n",
       "      <td>NSW</td>\n",
       "      <td>6742690</td>\n",
       "    </tr>\n",
       "    <tr>\n",
       "      <th>3</th>\n",
       "      <td>01-Sep-06</td>\n",
       "      <td>NSW</td>\n",
       "      <td>6766133</td>\n",
       "    </tr>\n",
       "    <tr>\n",
       "      <th>4</th>\n",
       "      <td>01-Dec-06</td>\n",
       "      <td>NSW</td>\n",
       "      <td>6786160</td>\n",
       "    </tr>\n",
       "  </tbody>\n",
       "</table>\n",
       "</div>"
      ],
      "text/plain": [
       "        Date State  Population\n",
       "0  01-Dec-05   NSW     6718023\n",
       "1  01-Mar-06   NSW     6735528\n",
       "2  01-Jun-06   NSW     6742690\n",
       "3  01-Sep-06   NSW     6766133\n",
       "4  01-Dec-06   NSW     6786160"
      ]
     },
     "execution_count": 70,
     "metadata": {},
     "output_type": "execute_result"
    }
   ],
   "source": [
    "sg = pd.melt(sg, id_vars=['Date'],value_vars=['NSW','VIC','QLD','SA','WA','TAS','NT','ACT'],var_name='State')\n",
    "sg.rename(columns = {'value':'Population'}, inplace = True)\n",
    "sg.head()"
   ]
  },
  {
   "cell_type": "code",
   "execution_count": 71,
   "metadata": {},
   "outputs": [],
   "source": [
    "import datetime\n",
    "ts.Date = ts.Date.apply(lambda x: datetime.datetime.strftime(x, '%d-%b-%y'))"
   ]
  },
  {
   "cell_type": "code",
   "execution_count": 72,
   "metadata": {},
   "outputs": [
    {
     "data": {
      "text/html": [
       "<div>\n",
       "<style scoped>\n",
       "    .dataframe tbody tr th:only-of-type {\n",
       "        vertical-align: middle;\n",
       "    }\n",
       "\n",
       "    .dataframe tbody tr th {\n",
       "        vertical-align: top;\n",
       "    }\n",
       "\n",
       "    .dataframe thead th {\n",
       "        text-align: right;\n",
       "    }\n",
       "</style>\n",
       "<table border=\"1\" class=\"dataframe\">\n",
       "  <thead>\n",
       "    <tr style=\"text-align: right;\">\n",
       "      <th></th>\n",
       "      <th>State</th>\n",
       "      <th>Date</th>\n",
       "      <th>Unemployment Rate</th>\n",
       "    </tr>\n",
       "  </thead>\n",
       "  <tbody>\n",
       "    <tr>\n",
       "      <th>0</th>\n",
       "      <td>NSW</td>\n",
       "      <td>01-Feb-78</td>\n",
       "      <td>6.773762</td>\n",
       "    </tr>\n",
       "    <tr>\n",
       "      <th>1</th>\n",
       "      <td>NSW</td>\n",
       "      <td>01-Mar-78</td>\n",
       "      <td>6.490161</td>\n",
       "    </tr>\n",
       "    <tr>\n",
       "      <th>2</th>\n",
       "      <td>NSW</td>\n",
       "      <td>01-Apr-78</td>\n",
       "      <td>6.507978</td>\n",
       "    </tr>\n",
       "    <tr>\n",
       "      <th>3</th>\n",
       "      <td>NSW</td>\n",
       "      <td>01-May-78</td>\n",
       "      <td>6.115171</td>\n",
       "    </tr>\n",
       "    <tr>\n",
       "      <th>4</th>\n",
       "      <td>NSW</td>\n",
       "      <td>01-Jun-78</td>\n",
       "      <td>6.424127</td>\n",
       "    </tr>\n",
       "  </tbody>\n",
       "</table>\n",
       "</div>"
      ],
      "text/plain": [
       "  State       Date  Unemployment Rate\n",
       "0   NSW  01-Feb-78           6.773762\n",
       "1   NSW  01-Mar-78           6.490161\n",
       "2   NSW  01-Apr-78           6.507978\n",
       "3   NSW  01-May-78           6.115171\n",
       "4   NSW  01-Jun-78           6.424127"
      ]
     },
     "execution_count": 72,
     "metadata": {},
     "output_type": "execute_result"
    }
   ],
   "source": [
    "ts.rename(columns={'Unemployment Rate (15+)':'Unemployment Rate'}, inplace=True)\n",
    "ts.rename(columns={'State/Territory':'State'}, inplace=True)\n",
    "ts = ts[['State','Date','Unemployment Rate']]\n",
    "ts.head()"
   ]
  },
  {
   "cell_type": "code",
   "execution_count": 73,
   "metadata": {},
   "outputs": [
    {
     "data": {
      "text/html": [
       "<div>\n",
       "<style scoped>\n",
       "    .dataframe tbody tr th:only-of-type {\n",
       "        vertical-align: middle;\n",
       "    }\n",
       "\n",
       "    .dataframe tbody tr th {\n",
       "        vertical-align: top;\n",
       "    }\n",
       "\n",
       "    .dataframe thead th {\n",
       "        text-align: right;\n",
       "    }\n",
       "</style>\n",
       "<table border=\"1\" class=\"dataframe\">\n",
       "  <thead>\n",
       "    <tr style=\"text-align: right;\">\n",
       "      <th></th>\n",
       "      <th>Date</th>\n",
       "      <th>State</th>\n",
       "      <th>Population</th>\n",
       "      <th>House Price Index</th>\n",
       "    </tr>\n",
       "  </thead>\n",
       "  <tbody>\n",
       "    <tr>\n",
       "      <th>0</th>\n",
       "      <td>01-Dec-05</td>\n",
       "      <td>NSW</td>\n",
       "      <td>6718023</td>\n",
       "      <td>81.8</td>\n",
       "    </tr>\n",
       "    <tr>\n",
       "      <th>1</th>\n",
       "      <td>01-Mar-06</td>\n",
       "      <td>NSW</td>\n",
       "      <td>6735528</td>\n",
       "      <td>80.8</td>\n",
       "    </tr>\n",
       "    <tr>\n",
       "      <th>2</th>\n",
       "      <td>01-Jun-06</td>\n",
       "      <td>NSW</td>\n",
       "      <td>6742690</td>\n",
       "      <td>82.3</td>\n",
       "    </tr>\n",
       "    <tr>\n",
       "      <th>3</th>\n",
       "      <td>01-Sep-06</td>\n",
       "      <td>NSW</td>\n",
       "      <td>6766133</td>\n",
       "      <td>82.0</td>\n",
       "    </tr>\n",
       "    <tr>\n",
       "      <th>4</th>\n",
       "      <td>01-Dec-06</td>\n",
       "      <td>NSW</td>\n",
       "      <td>6786160</td>\n",
       "      <td>82.7</td>\n",
       "    </tr>\n",
       "  </tbody>\n",
       "</table>\n",
       "</div>"
      ],
      "text/plain": [
       "        Date State  Population  House Price Index\n",
       "0  01-Dec-05   NSW     6718023               81.8\n",
       "1  01-Mar-06   NSW     6735528               80.8\n",
       "2  01-Jun-06   NSW     6742690               82.3\n",
       "3  01-Sep-06   NSW     6766133               82.0\n",
       "4  01-Dec-06   NSW     6786160               82.7"
      ]
     },
     "execution_count": 73,
     "metadata": {},
     "output_type": "execute_result"
    }
   ],
   "source": [
    "merge = pd.merge(sg,hpi, on=['Date','State'])\n",
    "merge.head()"
   ]
  },
  {
   "cell_type": "code",
   "execution_count": 74,
   "metadata": {},
   "outputs": [
    {
     "data": {
      "text/html": [
       "<div>\n",
       "<style scoped>\n",
       "    .dataframe tbody tr th:only-of-type {\n",
       "        vertical-align: middle;\n",
       "    }\n",
       "\n",
       "    .dataframe tbody tr th {\n",
       "        vertical-align: top;\n",
       "    }\n",
       "\n",
       "    .dataframe thead th {\n",
       "        text-align: right;\n",
       "    }\n",
       "</style>\n",
       "<table border=\"1\" class=\"dataframe\">\n",
       "  <thead>\n",
       "    <tr style=\"text-align: right;\">\n",
       "      <th></th>\n",
       "      <th>Date</th>\n",
       "      <th>State</th>\n",
       "      <th>Population</th>\n",
       "      <th>House Price Index</th>\n",
       "      <th>Unemployment Rate</th>\n",
       "    </tr>\n",
       "  </thead>\n",
       "  <tbody>\n",
       "    <tr>\n",
       "      <th>0</th>\n",
       "      <td>01-Dec-05</td>\n",
       "      <td>NSW</td>\n",
       "      <td>6718023</td>\n",
       "      <td>81.8</td>\n",
       "      <td>5.293757</td>\n",
       "    </tr>\n",
       "    <tr>\n",
       "      <th>1</th>\n",
       "      <td>01-Mar-06</td>\n",
       "      <td>NSW</td>\n",
       "      <td>6735528</td>\n",
       "      <td>80.8</td>\n",
       "      <td>4.978780</td>\n",
       "    </tr>\n",
       "    <tr>\n",
       "      <th>2</th>\n",
       "      <td>01-Jun-06</td>\n",
       "      <td>NSW</td>\n",
       "      <td>6742690</td>\n",
       "      <td>82.3</td>\n",
       "      <td>5.288439</td>\n",
       "    </tr>\n",
       "    <tr>\n",
       "      <th>3</th>\n",
       "      <td>01-Sep-06</td>\n",
       "      <td>NSW</td>\n",
       "      <td>6766133</td>\n",
       "      <td>82.0</td>\n",
       "      <td>5.200780</td>\n",
       "    </tr>\n",
       "    <tr>\n",
       "      <th>4</th>\n",
       "      <td>01-Dec-06</td>\n",
       "      <td>NSW</td>\n",
       "      <td>6786160</td>\n",
       "      <td>82.7</td>\n",
       "      <td>4.811675</td>\n",
       "    </tr>\n",
       "  </tbody>\n",
       "</table>\n",
       "</div>"
      ],
      "text/plain": [
       "        Date State  Population  House Price Index  Unemployment Rate\n",
       "0  01-Dec-05   NSW     6718023               81.8           5.293757\n",
       "1  01-Mar-06   NSW     6735528               80.8           4.978780\n",
       "2  01-Jun-06   NSW     6742690               82.3           5.288439\n",
       "3  01-Sep-06   NSW     6766133               82.0           5.200780\n",
       "4  01-Dec-06   NSW     6786160               82.7           4.811675"
      ]
     },
     "execution_count": 74,
     "metadata": {},
     "output_type": "execute_result"
    }
   ],
   "source": [
    "merge = pd.merge(merge,ts, on=['Date','State'])\n",
    "merge.head()"
   ]
  },
  {
   "cell_type": "code",
   "execution_count": 75,
   "metadata": {},
   "outputs": [],
   "source": [
    "merge.to_csv(\"Task1.csv\",index=False,sep=',')"
   ]
  },
  {
   "cell_type": "code",
   "execution_count": 76,
   "metadata": {},
   "outputs": [
    {
     "data": {
      "text/html": [
       "<style>\n",
       ".output_wrapper, .output {\n",
       "    height:auto !important;\n",
       "    max-height:1000px;  /* your desired max-height here */\n",
       "}\n",
       ".output_scroll {\n",
       "    box-shadow:none !important;\n",
       "    webkit-box-shadow:none !important;\n",
       "}\n",
       "</style>\n"
      ],
      "text/plain": [
       "<IPython.core.display.HTML object>"
      ]
     },
     "metadata": {},
     "output_type": "display_data"
    }
   ],
   "source": [
    "%%html\n",
    "<style>\n",
    ".output_wrapper, .output {\n",
    "    height:auto !important;\n",
    "    max-height:1000px;  /* your desired max-height here */\n",
    "}\n",
    ".output_scroll {\n",
    "    box-shadow:none !important;\n",
    "    webkit-box-shadow:none !important;\n",
    "}\n",
    "</style>"
   ]
  },
  {
   "cell_type": "code",
   "execution_count": 77,
   "metadata": {
    "scrolled": true
   },
   "outputs": [
    {
     "data": {
      "text/html": [
       "\n",
       "        <iframe\n",
       "            width=\"900\"\n",
       "            height=\"700\"\n",
       "            src=\"mc_temp.html\"\n",
       "            frameborder=\"0\"\n",
       "            allowfullscreen\n",
       "        ></iframe>\n",
       "        "
      ],
      "text/plain": [
       "<IPython.lib.display.IFrame at 0x11641cbe0>"
      ]
     },
     "metadata": {},
     "output_type": "display_data"
    }
   ],
   "source": [
    "mChart = MotionChart(df = merge, key='Date', x='Unemployment Rate', y='House Price Index', xscale='linear', yscale='linear',\n",
    "                     size='Population', color='State', category='State')\n",
    "\n",
    "mChart.to_notebook()"
   ]
  },
  {
   "cell_type": "code",
   "execution_count": 79,
   "metadata": {},
   "outputs": [],
   "source": [
    "sg = pd.read_csv('userssharedsdfratebrthsyaw1819raceethncty20002012.csv')"
   ]
  },
  {
   "cell_type": "code",
   "execution_count": 80,
   "metadata": {},
   "outputs": [],
   "source": [
    "sg.rename(columns={'Race/ethnicity ':'Race'}, inplace=True)\n",
    "sg.rename(columns={'Rate of birth to women ages 18-19':'18-19'}, inplace=True)\n",
    "sg.rename(columns={'Rate of birth to women ages 20-24':'20-24'}, inplace=True)\n",
    "sg.rename(columns={'Distribution of male children born to women ages 18-19':'Male Children(18-19)'}, inplace=True)\n",
    "sg.rename(columns={'Distribution of female children born to women ages 18-19':'Female Children(18-19)'}, inplace=True)\n",
    "sg.rename(columns={'Distribution of male children born to women ages 20-24':'Male Children(20-24)'}, inplace=True)\n",
    "sg.rename(columns={'Distribution of female children born to women ages 20-24':'Female Children(20-24)'}, inplace=True)"
   ]
  },
  {
   "cell_type": "code",
   "execution_count": 81,
   "metadata": {},
   "outputs": [],
   "source": [
    "sg1 = sg[['Race','Year','18-19','20-24']]"
   ]
  },
  {
   "cell_type": "code",
   "execution_count": 83,
   "metadata": {},
   "outputs": [
    {
     "data": {
      "text/html": [
       "<div>\n",
       "<style scoped>\n",
       "    .dataframe tbody tr th:only-of-type {\n",
       "        vertical-align: middle;\n",
       "    }\n",
       "\n",
       "    .dataframe tbody tr th {\n",
       "        vertical-align: top;\n",
       "    }\n",
       "\n",
       "    .dataframe thead th {\n",
       "        text-align: right;\n",
       "    }\n",
       "</style>\n",
       "<table border=\"1\" class=\"dataframe\">\n",
       "  <thead>\n",
       "    <tr style=\"text-align: right;\">\n",
       "      <th></th>\n",
       "      <th>Race</th>\n",
       "      <th>Year</th>\n",
       "      <th>Women Ages</th>\n",
       "      <th>Rate of Birth</th>\n",
       "    </tr>\n",
       "  </thead>\n",
       "  <tbody>\n",
       "    <tr>\n",
       "      <th>0</th>\n",
       "      <td>White, non-Hispanic</td>\n",
       "      <td>2000</td>\n",
       "      <td>18-19</td>\n",
       "      <td>57.5</td>\n",
       "    </tr>\n",
       "    <tr>\n",
       "      <th>1</th>\n",
       "      <td>White, non-Hispanic</td>\n",
       "      <td>2001</td>\n",
       "      <td>18-19</td>\n",
       "      <td>54.7</td>\n",
       "    </tr>\n",
       "    <tr>\n",
       "      <th>2</th>\n",
       "      <td>White, non-Hispanic</td>\n",
       "      <td>2002</td>\n",
       "      <td>18-19</td>\n",
       "      <td>52.0</td>\n",
       "    </tr>\n",
       "    <tr>\n",
       "      <th>3</th>\n",
       "      <td>White, non-Hispanic</td>\n",
       "      <td>2003</td>\n",
       "      <td>18-19</td>\n",
       "      <td>50.0</td>\n",
       "    </tr>\n",
       "    <tr>\n",
       "      <th>4</th>\n",
       "      <td>White, non-Hispanic</td>\n",
       "      <td>2004</td>\n",
       "      <td>18-19</td>\n",
       "      <td>48.6</td>\n",
       "    </tr>\n",
       "  </tbody>\n",
       "</table>\n",
       "</div>"
      ],
      "text/plain": [
       "                  Race  Year Women Ages  Rate of Birth\n",
       "0  White, non-Hispanic  2000      18-19           57.5\n",
       "1  White, non-Hispanic  2001      18-19           54.7\n",
       "2  White, non-Hispanic  2002      18-19           52.0\n",
       "3  White, non-Hispanic  2003      18-19           50.0\n",
       "4  White, non-Hispanic  2004      18-19           48.6"
      ]
     },
     "execution_count": 83,
     "metadata": {},
     "output_type": "execute_result"
    }
   ],
   "source": [
    "sg1 = pd.melt(sg, id_vars=['Race','Year'],value_vars=['18-19','20-24'],var_name='Women Ages')\n",
    "sg1.rename(columns = {'value':'Rate of Birth'}, inplace = True)\n",
    "sg1.head()"
   ]
  },
  {
   "cell_type": "code",
   "execution_count": 84,
   "metadata": {},
   "outputs": [
    {
     "name": "stderr",
     "output_type": "stream",
     "text": [
      "//anaconda3/lib/python3.7/site-packages/pandas/core/frame.py:4025: SettingWithCopyWarning: \n",
      "A value is trying to be set on a copy of a slice from a DataFrame\n",
      "\n",
      "See the caveats in the documentation: http://pandas.pydata.org/pandas-docs/stable/indexing.html#indexing-view-versus-copy\n",
      "  return super(DataFrame, self).rename(**kwargs)\n"
     ]
    },
    {
     "data": {
      "text/html": [
       "<div>\n",
       "<style scoped>\n",
       "    .dataframe tbody tr th:only-of-type {\n",
       "        vertical-align: middle;\n",
       "    }\n",
       "\n",
       "    .dataframe tbody tr th {\n",
       "        vertical-align: top;\n",
       "    }\n",
       "\n",
       "    .dataframe thead th {\n",
       "        text-align: right;\n",
       "    }\n",
       "</style>\n",
       "<table border=\"1\" class=\"dataframe\">\n",
       "  <thead>\n",
       "    <tr style=\"text-align: right;\">\n",
       "      <th></th>\n",
       "      <th>Race</th>\n",
       "      <th>Year</th>\n",
       "      <th>Women Ages</th>\n",
       "      <th>Male Children Distribution</th>\n",
       "    </tr>\n",
       "  </thead>\n",
       "  <tbody>\n",
       "    <tr>\n",
       "      <th>0</th>\n",
       "      <td>White, non-Hispanic</td>\n",
       "      <td>2000</td>\n",
       "      <td>18-19</td>\n",
       "      <td>51.5%</td>\n",
       "    </tr>\n",
       "    <tr>\n",
       "      <th>1</th>\n",
       "      <td>White, non-Hispanic</td>\n",
       "      <td>2001</td>\n",
       "      <td>18-19</td>\n",
       "      <td>51.3%</td>\n",
       "    </tr>\n",
       "    <tr>\n",
       "      <th>2</th>\n",
       "      <td>White, non-Hispanic</td>\n",
       "      <td>2002</td>\n",
       "      <td>18-19</td>\n",
       "      <td>51.1%</td>\n",
       "    </tr>\n",
       "    <tr>\n",
       "      <th>3</th>\n",
       "      <td>White, non-Hispanic</td>\n",
       "      <td>2003</td>\n",
       "      <td>18-19</td>\n",
       "      <td>51.4%</td>\n",
       "    </tr>\n",
       "    <tr>\n",
       "      <th>4</th>\n",
       "      <td>White, non-Hispanic</td>\n",
       "      <td>2004</td>\n",
       "      <td>18-19</td>\n",
       "      <td>51.2%</td>\n",
       "    </tr>\n",
       "  </tbody>\n",
       "</table>\n",
       "</div>"
      ],
      "text/plain": [
       "                  Race  Year Women Ages Male Children Distribution\n",
       "0  White, non-Hispanic  2000      18-19                      51.5%\n",
       "1  White, non-Hispanic  2001      18-19                      51.3%\n",
       "2  White, non-Hispanic  2002      18-19                      51.1%\n",
       "3  White, non-Hispanic  2003      18-19                      51.4%\n",
       "4  White, non-Hispanic  2004      18-19                      51.2%"
      ]
     },
     "execution_count": 84,
     "metadata": {},
     "output_type": "execute_result"
    }
   ],
   "source": [
    "sg2 = sg[['Race','Year','Male Children(18-19)','Male Children(20-24)']]\n",
    "sg2.rename(columns={'Male Children(18-19)':'18-19'}, inplace=True)\n",
    "sg2.rename(columns={'Male Children(20-24)':'20-24'}, inplace=True)\n",
    "sg2 = pd.melt(sg2, id_vars=['Race','Year'],value_vars=['18-19','20-24'],var_name='Women Ages')\n",
    "sg2.rename(columns = {'value':'Male Children Distribution'}, inplace = True)\n",
    "sg2.head()"
   ]
  },
  {
   "cell_type": "code",
   "execution_count": 85,
   "metadata": {},
   "outputs": [
    {
     "data": {
      "text/html": [
       "<div>\n",
       "<style scoped>\n",
       "    .dataframe tbody tr th:only-of-type {\n",
       "        vertical-align: middle;\n",
       "    }\n",
       "\n",
       "    .dataframe tbody tr th {\n",
       "        vertical-align: top;\n",
       "    }\n",
       "\n",
       "    .dataframe thead th {\n",
       "        text-align: right;\n",
       "    }\n",
       "</style>\n",
       "<table border=\"1\" class=\"dataframe\">\n",
       "  <thead>\n",
       "    <tr style=\"text-align: right;\">\n",
       "      <th></th>\n",
       "      <th>Race</th>\n",
       "      <th>Year</th>\n",
       "      <th>Women Ages</th>\n",
       "      <th>Female Children Distribution</th>\n",
       "    </tr>\n",
       "  </thead>\n",
       "  <tbody>\n",
       "    <tr>\n",
       "      <th>0</th>\n",
       "      <td>White, non-Hispanic</td>\n",
       "      <td>2000</td>\n",
       "      <td>18-19</td>\n",
       "      <td>48.5%</td>\n",
       "    </tr>\n",
       "    <tr>\n",
       "      <th>1</th>\n",
       "      <td>White, non-Hispanic</td>\n",
       "      <td>2001</td>\n",
       "      <td>18-19</td>\n",
       "      <td>48.7%</td>\n",
       "    </tr>\n",
       "    <tr>\n",
       "      <th>2</th>\n",
       "      <td>White, non-Hispanic</td>\n",
       "      <td>2002</td>\n",
       "      <td>18-19</td>\n",
       "      <td>48.9%</td>\n",
       "    </tr>\n",
       "    <tr>\n",
       "      <th>3</th>\n",
       "      <td>White, non-Hispanic</td>\n",
       "      <td>2003</td>\n",
       "      <td>18-19</td>\n",
       "      <td>48.6%</td>\n",
       "    </tr>\n",
       "    <tr>\n",
       "      <th>4</th>\n",
       "      <td>White, non-Hispanic</td>\n",
       "      <td>2004</td>\n",
       "      <td>18-19</td>\n",
       "      <td>48.8%</td>\n",
       "    </tr>\n",
       "  </tbody>\n",
       "</table>\n",
       "</div>"
      ],
      "text/plain": [
       "                  Race  Year Women Ages Female Children Distribution\n",
       "0  White, non-Hispanic  2000      18-19                        48.5%\n",
       "1  White, non-Hispanic  2001      18-19                        48.7%\n",
       "2  White, non-Hispanic  2002      18-19                        48.9%\n",
       "3  White, non-Hispanic  2003      18-19                        48.6%\n",
       "4  White, non-Hispanic  2004      18-19                        48.8%"
      ]
     },
     "execution_count": 85,
     "metadata": {},
     "output_type": "execute_result"
    }
   ],
   "source": [
    "sg3 = sg[['Race','Year','Female Children(18-19)','Female Children(20-24)']]\n",
    "sg3.rename(columns={'Female Children(18-19)':'18-19'}, inplace=True)\n",
    "sg3.rename(columns={'Female Children(20-24)':'20-24'}, inplace=True)\n",
    "sg3 = pd.melt(sg3, id_vars=['Race','Year'],value_vars=['18-19','20-24'],var_name='Women Ages')\n",
    "sg3.rename(columns = {'value':'Female Children Distribution'}, inplace = True)\n",
    "sg3.head()"
   ]
  },
  {
   "cell_type": "code",
   "execution_count": 86,
   "metadata": {},
   "outputs": [],
   "source": [
    "merge1 = pd.merge(sg1,sg2, on=['Race','Year','Women Ages'])"
   ]
  },
  {
   "cell_type": "code",
   "execution_count": 87,
   "metadata": {},
   "outputs": [
    {
     "data": {
      "text/html": [
       "<div>\n",
       "<style scoped>\n",
       "    .dataframe tbody tr th:only-of-type {\n",
       "        vertical-align: middle;\n",
       "    }\n",
       "\n",
       "    .dataframe tbody tr th {\n",
       "        vertical-align: top;\n",
       "    }\n",
       "\n",
       "    .dataframe thead th {\n",
       "        text-align: right;\n",
       "    }\n",
       "</style>\n",
       "<table border=\"1\" class=\"dataframe\">\n",
       "  <thead>\n",
       "    <tr style=\"text-align: right;\">\n",
       "      <th></th>\n",
       "      <th>Race</th>\n",
       "      <th>Year</th>\n",
       "      <th>Women Ages</th>\n",
       "      <th>Rate of Birth</th>\n",
       "      <th>Male Children Distribution</th>\n",
       "      <th>Female Children Distribution</th>\n",
       "    </tr>\n",
       "  </thead>\n",
       "  <tbody>\n",
       "    <tr>\n",
       "      <th>0</th>\n",
       "      <td>White, non-Hispanic</td>\n",
       "      <td>2000</td>\n",
       "      <td>18-19</td>\n",
       "      <td>57.5</td>\n",
       "      <td>51.5%</td>\n",
       "      <td>48.5%</td>\n",
       "    </tr>\n",
       "    <tr>\n",
       "      <th>1</th>\n",
       "      <td>White, non-Hispanic</td>\n",
       "      <td>2001</td>\n",
       "      <td>18-19</td>\n",
       "      <td>54.7</td>\n",
       "      <td>51.3%</td>\n",
       "      <td>48.7%</td>\n",
       "    </tr>\n",
       "    <tr>\n",
       "      <th>2</th>\n",
       "      <td>White, non-Hispanic</td>\n",
       "      <td>2002</td>\n",
       "      <td>18-19</td>\n",
       "      <td>52.0</td>\n",
       "      <td>51.1%</td>\n",
       "      <td>48.9%</td>\n",
       "    </tr>\n",
       "    <tr>\n",
       "      <th>3</th>\n",
       "      <td>White, non-Hispanic</td>\n",
       "      <td>2003</td>\n",
       "      <td>18-19</td>\n",
       "      <td>50.0</td>\n",
       "      <td>51.4%</td>\n",
       "      <td>48.6%</td>\n",
       "    </tr>\n",
       "    <tr>\n",
       "      <th>4</th>\n",
       "      <td>White, non-Hispanic</td>\n",
       "      <td>2004</td>\n",
       "      <td>18-19</td>\n",
       "      <td>48.6</td>\n",
       "      <td>51.2%</td>\n",
       "      <td>48.8%</td>\n",
       "    </tr>\n",
       "  </tbody>\n",
       "</table>\n",
       "</div>"
      ],
      "text/plain": [
       "                  Race  Year Women Ages  Rate of Birth  \\\n",
       "0  White, non-Hispanic  2000      18-19           57.5   \n",
       "1  White, non-Hispanic  2001      18-19           54.7   \n",
       "2  White, non-Hispanic  2002      18-19           52.0   \n",
       "3  White, non-Hispanic  2003      18-19           50.0   \n",
       "4  White, non-Hispanic  2004      18-19           48.6   \n",
       "\n",
       "  Male Children Distribution Female Children Distribution  \n",
       "0                      51.5%                        48.5%  \n",
       "1                      51.3%                        48.7%  \n",
       "2                      51.1%                        48.9%  \n",
       "3                      51.4%                        48.6%  \n",
       "4                      51.2%                        48.8%  "
      ]
     },
     "execution_count": 87,
     "metadata": {},
     "output_type": "execute_result"
    }
   ],
   "source": [
    "merge1 = pd.merge(merge1,sg3, on=['Race','Year','Women Ages'])\n",
    "merge1.head()"
   ]
  },
  {
   "cell_type": "code",
   "execution_count": 88,
   "metadata": {},
   "outputs": [],
   "source": [
    "merge1.to_csv(\"Task2.csv\",index=False,sep=',')"
   ]
  },
  {
   "cell_type": "code",
   "execution_count": 89,
   "metadata": {},
   "outputs": [
    {
     "data": {
      "text/html": [
       "<style>\n",
       ".output_wrapper, .output {\n",
       "    height:auto !important;\n",
       "    max-height:1000px;  /* your desired max-height here */\n",
       "}\n",
       ".output_scroll {\n",
       "    box-shadow:none !important;\n",
       "    webkit-box-shadow:none !important;\n",
       "}\n",
       "</style>\n"
      ],
      "text/plain": [
       "<IPython.core.display.HTML object>"
      ]
     },
     "metadata": {},
     "output_type": "display_data"
    }
   ],
   "source": [
    "%%html\n",
    "<style>\n",
    ".output_wrapper, .output {\n",
    "    height:auto !important;\n",
    "    max-height:1000px;  /* your desired max-height here */\n",
    "}\n",
    ".output_scroll {\n",
    "    box-shadow:none !important;\n",
    "    webkit-box-shadow:none !important;\n",
    "}\n",
    "</style>"
   ]
  },
  {
   "cell_type": "code",
   "execution_count": 90,
   "metadata": {},
   "outputs": [
    {
     "data": {
      "text/html": [
       "\n",
       "        <iframe\n",
       "            width=\"900\"\n",
       "            height=\"700\"\n",
       "            src=\"mc_temp.html\"\n",
       "            frameborder=\"0\"\n",
       "            allowfullscreen\n",
       "        ></iframe>\n",
       "        "
      ],
      "text/plain": [
       "<IPython.lib.display.IFrame at 0x1161d86a0>"
      ]
     },
     "metadata": {},
     "output_type": "display_data"
    }
   ],
   "source": [
    "mChart = MotionChart(df = merge1, key='Year', x='Race', y='Rate of Birth', xscale='linear', yscale='linear',\n",
    "                     size='Female Children Distribution', color='Women Ages', category='Race')\n",
    "\n",
    "mChart.to_notebook()"
   ]
  },
  {
   "cell_type": "code",
   "execution_count": null,
   "metadata": {},
   "outputs": [],
   "source": []
  }
 ],
 "metadata": {
  "kernelspec": {
   "display_name": "Python 3",
   "language": "python",
   "name": "python3"
  },
  "language_info": {
   "codemirror_mode": {
    "name": "ipython",
    "version": 3
   },
   "file_extension": ".py",
   "mimetype": "text/x-python",
   "name": "python",
   "nbconvert_exporter": "python",
   "pygments_lexer": "ipython3",
   "version": "3.7.3"
  }
 },
 "nbformat": 4,
 "nbformat_minor": 2
}
